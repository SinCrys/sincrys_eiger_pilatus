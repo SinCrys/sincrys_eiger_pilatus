{
 "cells": [
  {
   "cell_type": "code",
   "execution_count": 2,
   "id": "cc1a86ee-d2c9-4a43-9b38-908465147b99",
   "metadata": {},
   "outputs": [],
   "source": [
    "import xrayutilities as xu"
   ]
  },
  {
   "cell_type": "code",
   "execution_count": null,
   "id": "db2ff790-0dfa-4544-a017-a7c3c8c042d5",
   "metadata": {},
   "outputs": [],
   "source": [
    "# 0.025 Ni 46.6714%\n",
    "# 0.050 Ni 21.7822%\n",
    "# 0.025 W 0.8172%\n",
    "# 0.050 W 0.0067%"
   ]
  }
 ],
 "metadata": {
  "kernelspec": {
   "display_name": "HDF5 Environment",
   "language": "python",
   "name": "hdf-kernel"
  },
  "language_info": {
   "codemirror_mode": {
    "name": "ipython",
    "version": 3
   },
   "file_extension": ".py",
   "mimetype": "text/x-python",
   "name": "python",
   "nbconvert_exporter": "python",
   "pygments_lexer": "ipython3",
   "version": "3.9.12"
  }
 },
 "nbformat": 4,
 "nbformat_minor": 5
}
