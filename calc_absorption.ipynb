{
 "cells": [
  {
   "cell_type": "markdown",
   "id": "af2a2a86-28df-4057-9ed6-4391e0320392",
   "metadata": {},
   "source": [
    "# Photon flux transmission\n",
    "\n",
    "Calculating some transmission through different sets of absorbers used in the experiment, using [XrayDB](https://xraypy.github.io/XrayDB). Filters used were (binary) sets of W and Ni absorbers in $0.025$ and $0.050 mm$ plates. Energy was $20000 eV$."
   ]
  },
  {
   "cell_type": "code",
   "execution_count": 1,
   "id": "e153de56-fb69-41fe-b354-ca9d3f3659ce",
   "metadata": {},
   "outputs": [],
   "source": [
    "import numpy as np\n",
    "import matplotlib.pyplot as plt\n",
    "from xraydb import material_mu\n",
    "\n",
    "energy = 20000 # [eV]\n"
   ]
  },
  {
   "cell_type": "code",
   "execution_count": 2,
   "id": "f63eab51-ab1e-494a-9d63-335bb080acb6",
   "metadata": {},
   "outputs": [],
   "source": [
    "def calc_transmission(elem: str = 'Ni',\n",
    "                      thickness: float = 0.01, # thickness in [mm]\n",
    "                      energy: float = energy, # energy as [eV]\n",
    "                     ) -> float:\n",
    "    mu = material_mu(elem, energy)*0.1 # returned in 1/cm so this is in [1/mm]\n",
    "    \n",
    "    transmission = np.exp(-thickness * mu)    \n",
    "    return transmission"
   ]
  },
  {
   "cell_type": "code",
   "execution_count": 3,
   "id": "f83624a9-23c3-4f35-a72b-c8cb8a2f4430",
   "metadata": {},
   "outputs": [
    {
     "name": "stdout",
     "output_type": "stream",
     "text": [
      "Element: W\tThickness: 0.025 mm\tTransmission: 0.042307\n",
      "Element: W\tThickness: 0.050 mm\tTransmission: 0.001790\n",
      "Element: Ni\tThickness: 0.025 mm\tTransmission: 0.488147\n",
      "Element: Ni\tThickness: 0.050 mm\tTransmission: 0.238287\n",
      "Element: Ni\tThickness: 0.075 mm\tTransmission: 0.116319\n"
     ]
    }
   ],
   "source": [
    "def calc_transmission_p(elem, thickness) -> None:\n",
    "    v = calc_transmission(elem, thickness)\n",
    "    print(f'Element: {elem}\\tThickness: {thickness:.3f} mm\\tTransmission: {v:.06f}')\n",
    "    return\n",
    "\n",
    "calc_transmission_p('W', 0.025)\n",
    "calc_transmission_p('W', 0.050)\n",
    "calc_transmission_p('Ni', 0.025)\n",
    "calc_transmission_p('Ni', 0.050)\n",
    "calc_transmission_p('Ni', 0.075)"
   ]
  },
  {
   "cell_type": "code",
   "execution_count": 4,
   "id": "ff6e447d-706e-4160-af7e-b0303a765ce5",
   "metadata": {},
   "outputs": [
    {
     "name": "stdout",
     "output_type": "stream",
     "text": [
      "Element: Ni+W\tThickness: 0.050 + 0.050 mm\tTransmission: 0.000427\n",
      "Element: Ni+W\tThickness: 0.075 + 0.050 mm\tTransmission: 0.000208\n",
      "Element: Ni+W\tThickness: 0.075 + 0.025 mm\tTransmission: 0.004921\n"
     ]
    }
   ],
   "source": [
    "\n",
    "# special cases are 0.050 mm Ni and 0.050 mm W\n",
    "print(f'Element: Ni+W\\tThickness: 0.050 + 0.050 mm\\tTransmission: {calc_transmission(\"W\", 0.050)*calc_transmission(\"Ni\", 0.050):.6f}')\n",
    "\n",
    "#0.075 mm Ni and 0.050 mm W\n",
    "print(f'Element: Ni+W\\tThickness: 0.075 + 0.050 mm\\tTransmission: {calc_transmission(\"W\", 0.050)*calc_transmission(\"Ni\", 0.075):.6f}')\n",
    "\n",
    "#0.075 mm Ni and 0.025 mm W\n",
    "print(f'Element: Ni+W\\tThickness: 0.075 + 0.025 mm\\tTransmission: {calc_transmission(\"W\", 0.025)*calc_transmission(\"Ni\", 0.075):.6f}')"
   ]
  },
  {
   "cell_type": "code",
   "execution_count": null,
   "id": "d6f4ccf8-c590-4e8c-a026-c49d75a3ac2d",
   "metadata": {},
   "outputs": [],
   "source": []
  }
 ],
 "metadata": {
  "kernelspec": {
   "display_name": "HDF5 Environment",
   "language": "python",
   "name": "hdf-kernel"
  },
  "language_info": {
   "codemirror_mode": {
    "name": "ipython",
    "version": 3
   },
   "file_extension": ".py",
   "mimetype": "text/x-python",
   "name": "python",
   "nbconvert_exporter": "python",
   "pygments_lexer": "ipython3",
   "version": "3.9.12"
  }
 },
 "nbformat": 4,
 "nbformat_minor": 5
}
