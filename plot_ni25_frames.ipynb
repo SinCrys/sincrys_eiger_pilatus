{
 "cells": [
  {
   "cell_type": "code",
   "execution_count": 1,
   "id": "7c5b6dec-49e7-43cc-a1a6-b6b55cb9fafb",
   "metadata": {},
   "outputs": [],
   "source": [
    "\n",
    "import numpy as np\n",
    "import pandas as pd\n",
    "import matplotlib.pyplot as plt"
   ]
  },
  {
   "cell_type": "code",
   "execution_count": 2,
   "id": "4cab96ab-6ad9-4757-b767-6c94b203c529",
   "metadata": {},
   "outputs": [],
   "source": [
    "from dataclasses import dataclass\n",
    "from symmetry import Symmetry\n"
   ]
  },
  {
   "cell_type": "code",
   "execution_count": 3,
   "id": "9d03d1b5-06e6-4ef2-a019-8b16133bbabb",
   "metadata": {},
   "outputs": [],
   "source": [
    "# how many rows to print\n",
    "pd.set_option('display.max_rows', 10)"
   ]
  },
  {
   "cell_type": "markdown",
   "id": "b6a70099-2466-4464-8eda-49f0af67c0b0",
   "metadata": {},
   "source": [
    "# comparing Pilatus and Eiger Ni 25 µm frames against each other\n",
    "\n",
    "The data has pre-processed by Lennard Krause into HKL files.\n",
    "\n",
    "Please follow this rabbit hole:  SADABS 2016/2: Krause, L., Herbst-Irmer, R., Sheldrick G.M. & Stalke D.,\n",
    " J. Appl. Cryst. 48 (2015) 3-10"
   ]
  },
  {
   "cell_type": "code",
   "execution_count": 4,
   "id": "24f416ee-0427-4930-a6cf-c9d136043a60",
   "metadata": {},
   "outputs": [],
   "source": [
    "from dataset import dataset"
   ]
  },
  {
   "cell_type": "code",
   "execution_count": 5,
   "id": "eebdd905-b18f-49ad-bce6-e1946b88c278",
   "metadata": {},
   "outputs": [
    {
     "name": "stdout",
     "output_type": "stream",
     "text": [
      "New dataset: 0347.hkl\n",
      "Setting symmetry to mmm for 0347.hkl\n",
      "No. of symops: 8\n",
      "Length of data loaded: 831\n",
      "Length of reduced data: 229\n",
      "New dataset: 0376.hkl\n",
      "Setting symmetry to mmm for 0376.hkl\n",
      "No. of symops: 8\n",
      "Length of data loaded: 664\n",
      "Length of reduced data: 189\n"
     ]
    }
   ],
   "source": [
    "fesb_symm = 'mmm'\n",
    "eiger_ni25 = dataset('0347.hkl', symmetry=fesb_symm)\n",
    "pilatus_ni25 = dataset('0376.hkl', symmetry=fesb_symm)"
   ]
  },
  {
   "cell_type": "code",
   "execution_count": 6,
   "id": "aa69bf13-4ed2-4760-9c50-c57d44abcc9f",
   "metadata": {},
   "outputs": [
    {
     "name": "stdout",
     "output_type": "stream",
     "text": [
      "             intensity     sigma\n",
      "hkl                             \n",
      "(0, 0, 1)     0.213957  0.022628\n",
      "(0, 0, 2)  9440.165000  1.606515\n",
      "(0, 1, 0)     9.341240  0.016160\n",
      "(0, 1, 1)  2205.452500  0.546288\n",
      "(0, 1, 2)     1.938720  0.029650\n",
      "...                ...       ...\n",
      "(7, 6, 0)  2791.890000  1.987045\n",
      "(8, 3, 0)     3.090760  0.031510\n",
      "(8, 3, 1)  1214.240000  0.871940\n",
      "(8, 4, 0)  4186.920000  2.820750\n",
      "(8, 4, 1)     6.201405  0.044045\n",
      "\n",
      "[229 rows x 2 columns]\n"
     ]
    }
   ],
   "source": [
    "print(eiger_ni25.data)"
   ]
  },
  {
   "cell_type": "code",
   "execution_count": null,
   "id": "5bdd9177-f317-4f9c-9b46-8fd5ce4733a2",
   "metadata": {},
   "outputs": [],
   "source": []
  },
  {
   "cell_type": "code",
   "execution_count": 7,
   "id": "567a365b-39f5-4dc7-97cf-3eebfce7ad67",
   "metadata": {},
   "outputs": [],
   "source": [
    "#eiger_ni25.data\n",
    "pass"
   ]
  },
  {
   "cell_type": "code",
   "execution_count": 8,
   "id": "9c240478-b012-48ec-99a3-1b50992eb1db",
   "metadata": {},
   "outputs": [],
   "source": [
    "# merge the datasets based on the hkl-tuples\n",
    "data = eiger_ni25.data.merge(pilatus_ni25.data, how='inner', on=['hkl'], suffixes=('_eig','_pil'), indicator=True)"
   ]
  },
  {
   "cell_type": "code",
   "execution_count": 9,
   "id": "db764e1e-3d46-4f65-b189-ed2897d69bba",
   "metadata": {},
   "outputs": [
    {
     "name": "stdout",
     "output_type": "stream",
     "text": [
      "           intensity_eig  sigma_eig  intensity_pil  sigma_pil _merge\n",
      "hkl                                                                 \n",
      "(0, 0, 2)     9440.16500   1.606515     9578.61500   9.945820   both\n",
      "(0, 1, 0)        9.34124   0.016160        2.18844   0.058290   both\n",
      "(0, 1, 1)     2205.45250   0.546288     1911.35000   3.236392   both\n",
      "(0, 1, 3)     1053.85000   0.556708      481.52000   2.677390   both\n",
      "(0, 2, 0)       22.76680   0.031050       13.75535   0.178995   both\n",
      "...                  ...        ...            ...        ...    ...\n",
      "(7, 4, 1)     1204.10750   0.901883      642.38100   2.679185   both\n",
      "(7, 4, 2)      462.47200   0.511590      258.12900   1.831025   both\n",
      "(7, 5, 0)      147.54350   0.191215       71.30265   0.928035   both\n",
      "(7, 5, 1)     3230.78250   2.355515     1920.74000   4.487950   both\n",
      "(7, 6, 0)     2791.89000   1.987045     1530.61500   3.588960   both\n",
      "\n",
      "[175 rows x 5 columns]\n"
     ]
    }
   ],
   "source": [
    "print(data)"
   ]
  },
  {
   "cell_type": "code",
   "execution_count": null,
   "id": "5e31b626-d0e0-497c-825f-79c59fe25696",
   "metadata": {},
   "outputs": [],
   "source": []
  },
  {
   "cell_type": "code",
   "execution_count": 10,
   "id": "6b8d8c20-d8a7-4c6c-adbb-7f9adade0cf0",
   "metadata": {},
   "outputs": [],
   "source": [
    "# calculate the scalar between them as the sum(intensity1*intensity2)/sum(intensity1)\n",
    "# and scale intensity1 to intensity2\n",
    "scale = np.nansum(data['intensity_eig']*data['intensity_pil'])/np.nansum(np.square(data['intensity_eig']))\n",
    "data['intensity_eig'] *= scale"
   ]
  },
  {
   "cell_type": "code",
   "execution_count": 13,
   "id": "11f3c0d9-e7f5-4cf8-81f2-ab320e098f31",
   "metadata": {},
   "outputs": [
    {
     "data": {
      "text/plain": [
       "[Text(0.5, 0, '$I_{EIGER}$'), Text(0, 0.5, '$I_{PILATUS}$')]"
      ]
     },
     "execution_count": 13,
     "metadata": {},
     "output_type": "execute_result"
    },
    {
     "data": {
      "image/png": "[encoded data removed]",
      "text/plain": [
       "<Figure size 432x288 with 1 Axes>"
      ]
     },
     "metadata": {
      "needs_background": "light"
     },
     "output_type": "display_data"
    }
   ],
   "source": [
    "fig, ax = plt.subplots()\n",
    "\n",
    "ax.scatter(data['intensity_eig'], data['intensity_pil'])\n",
    "ax.tick_params(direction='in')\n",
    "\n",
    "ax.set(xlabel='$I_{EIGER}$',\n",
    "       ylabel='$I_{PILATUS}$',\n",
    "      )"
   ]
  },
  {
   "cell_type": "code",
   "execution_count": 14,
   "id": "5036380b-d3e0-4c0a-9283-d973de62a4d2",
   "metadata": {},
   "outputs": [
    {
     "data": {
      "image/png": "[encoded data removed]",
      "text/plain": [
       "<Figure size 864x432 with 2 Axes>"
      ]
     },
     "metadata": {
      "needs_background": "light"
     },
     "output_type": "display_data"
    }
   ],
   "source": [
    "fig, (ax1, ax2) = plt.subplots(1,2,figsize=(12,6))\n",
    "\n",
    "data_mean = (data['intensity_eig'] + data['intensity_pil'])/2\n",
    "x = np.log10(data_mean)\n",
    "\n",
    "y = (data['intensity_eig']-data['intensity_pil'])/data_mean\n",
    "ax1.axhline(y=0, c='k')\n",
    "ax1.scatter(x, y)\n",
    "\n",
    "ax1.tick_params(direction='in')\n",
    "\n",
    "ax1.set(xlabel=r'log$_{10}$ $<I_{1,2}>$',\n",
    "        ylabel='($I_1 - I_2$)/$<I_{1,2}>$',\n",
    "        title='ax1'\n",
    "       \n",
    "      )\n",
    "\n",
    "\n",
    "ax2.scatter(data['intensity_eig'], data['intensity_pil'])\n",
    "ax2.tick_params(direction='in')\n",
    "\n",
    "ax2.set(xlabel='$I_{EIGER}$',\n",
    "        ylabel='$I_{PILATUS}$',\n",
    "        title='ax2'\n",
    "       )\n",
    "\n",
    "\n",
    "fig.suptitle('Eiger vs. Pilatus intensities\\n25 µm Ni foil')\n",
    "fig.tight_layout()"
   ]
  },
  {
   "cell_type": "code",
   "execution_count": null,
   "id": "46eb7db9-9834-48ba-a48d-450d639a7ccb",
   "metadata": {},
   "outputs": [],
   "source": []
  },
  {
   "cell_type": "code",
   "execution_count": null,
   "id": "ff3b4f76-579d-4db0-bfa3-6bcfd3d96214",
   "metadata": {},
   "outputs": [],
   "source": []
  }
 ],
 "metadata": {
  "kernelspec": {
   "display_name": "HDF5 Environment",
   "language": "python",
   "name": "hdf-kernel"
  },
  "language_info": {
   "codemirror_mode": {
    "name": "ipython",
    "version": 3
   },
   "file_extension": ".py",
   "mimetype": "text/x-python",
   "name": "python",
   "nbconvert_exporter": "python",
   "pygments_lexer": "ipython3",
   "version": "3.9.12"
  }
 },
 "nbformat": 4,
 "nbformat_minor": 5
}
