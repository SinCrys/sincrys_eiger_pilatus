{
 "cells": [
  {
   "cell_type": "markdown",
   "id": "4b4144b7-2569-4262-aa20-1e154936d6df",
   "metadata": {},
   "source": [
    "# Comparing Single-Crystal reflection intensities measured with DECTRIS EIGER2 CdTe and DECTRIS Pilatus3 X CdTe\n",
    "Hybrid photon-counting pixel detectors that are exposed to large variations in the instantaneous count rate around a reflection that lights up as a crystal is moved into diffraction conditions can be paralyzed for a time period, where it is not counting new photons. The detector will negate the undercounting by applying a correction, however, this leads to systematic underestimation."
   ]
  },
  {
   "cell_type": "markdown",
   "id": "44764c43-31a0-4b6a-a0c8-5a755feb0f19",
   "metadata": {
    "tags": []
   },
   "source": [
    "In this experiment we performed a xtal experiment at DanMAX with an incident beam energy of 19.9995 keV. DanMAX has 6 filters to attenuate the beam i.e. a 25 µm Ni, 50 µm Ni, 25 µm W, 50 µm W, 100 µm W, 200 µm W and 400 µm W, that can be moved in/out in a binary fashion.\n",
    "\n",
    "At 20 keV, the transmission of the incident photon flux is reduced to the following numbers,\n",
    "\n",
    "- 0.025 Ni 46.67%\n",
    "- 0.050 Ni 21.78%\n",
    "- 0.075 Ni 10.16%\n",
    "- 0.025 W 0.8172%\n",
    "- 0.050 W 0.0067%\n"
   ]
  },
  {
   "cell_type": "code",
   "execution_count": 1,
   "id": "7110fcb0-1b91-4db5-8ce8-0916eeb84fe3",
   "metadata": {},
   "outputs": [],
   "source": [
    "\n",
    "import numpy as np\n",
    "import pandas as pd\n",
    "import matplotlib.pyplot as plt"
   ]
  },
  {
   "cell_type": "code",
   "execution_count": 2,
   "id": "4cab96ab-6ad9-4757-b767-6c94b203c529",
   "metadata": {},
   "outputs": [],
   "source": [
    "from dataclasses import dataclass\n",
    "from symmetry import Symmetry\n"
   ]
  },
  {
   "cell_type": "code",
   "execution_count": 3,
   "id": "9d03d1b5-06e6-4ef2-a019-8b16133bbabb",
   "metadata": {},
   "outputs": [],
   "source": [
    "# how many rows to print\n",
    "pd.set_option('display.max_rows', 10)"
   ]
  },
  {
   "cell_type": "markdown",
   "id": "b6a70099-2466-4464-8eda-49f0af67c0b0",
   "metadata": {},
   "source": [
    "# comparing Pilatus and Eiger Ni 25 µm frames against each other\n",
    "\n",
    "The data has pre-processed by Lennard Krause into HKL files.\n",
    "\n",
    "#References\n",
    "- [1] SADABS 2016/2: Krause, L., Herbst-Irmer, R., Sheldrick G.M. & Stalke D.,\n",
    " J. Appl. Cryst. 48 (2015) 3-10\n",
    "- [2] Accurate high-resolution single-crystal diffraction from a Pilatus3 X CdTe detector, L. Krause, K. Tolborg, T. B. E. Grønbech, K. Sugimoto, B. B. Iversen, J. Overgaard, J. App. Cryst. 53 (2019), pp. 635-649, doi.org/101107/S160057672003775"
   ]
  },
  {
   "cell_type": "markdown",
   "id": "83398c2e-5ffd-4389-99e6-e58fa7c8aacd",
   "metadata": {},
   "source": [
    "# Datasets\n",
    "Measured on 09.06.2022 at DanMAX on a DECTRIS Eiger2 CdTe 4M and DECTRIS Pilatus3 X CdTe 4M.\n",
    "\n",
    "### Eiger2\n",
    "- 0342 FeSb2 with 0.050 mm Ni on Eiger2\n",
    "- 0343 FeSb2 with 0.025 mm Ni on Eiger2\n",
    "- 0344 FeSb2 with nothing on Eiger2\n",
    "-- Slicing: a b c d\n",
    "- 0345 FeSb2 with nothing on Eiger2\n",
    "-- slicing: -2 360 3620 0.5 0.0\n",
    "- 0346 FeSb2 with nothing on Eiger2\n",
    "-- slicing: -2 360 36200 0.05 0.0\n",
    "- 0347 FeSb2 with 0.025 mm Ni\n",
    "-- slicing: -2 360 36200 0.05 0.0\n",
    "- 0348 FeSb2 with 0.050 mm Ni\n",
    "-- slicing: -2 360 36200 0.05 0.0\n",
    "- 0349 FeSb2 with 0.025 mm W\n",
    "-- slicing: -2 360 36200 0.05 0.0\n",
    "- 0350 FeSb2 with 0.050 mm W\n",
    "-- slicing: -2 360 36200 0.05 0.0\n",
    "- 0351 FeSb2 with 0.050 mm Ni\n",
    "-- slicing: -2 360 362000 0.005 0.0. 360 GB...\n",
    "- 0352 FeSb2 with 0.025 mm W\n",
    "-- slicing: -2 360 362000 0.005 0.0\n",
    "- 0353 FeSb2 with 0.025 mm W\n",
    "-- slicing: -2 360 362 1.0 0.0\n",
    "- 0354 FeSb2 with 0.025 mm W\n",
    "-- slicing: -2 360 724 0.5 0.0\n",
    "- 0355 FeSb2 with 0.025 mm W\n",
    "-- slicing: -2 360 724 0.25 0\n",
    "- 0356 FeSb2 with 0.025 mm W\n",
    "-- slicing: -2 360 724 0.1 0\n",
    "- 0357 FeSb2 with 0.025 mm W\n",
    "-- slicing: -2 360 724 0.05 0\n",
    "- 0358 FeSb2 with 0.025 mm W\n",
    "-- slicing: -2 360 724 0.01 0\n",
    "- 0359 FeSb2 with 0.025 mm W\n",
    "-- slicing: -2 360 3620 0.01 0\n",
    "\n",
    "### Pilatus3\n",
    "- 0373 FeSb2 with 0.050 mm W\n",
    "-- slicing: -2 360 3620 0.1 0\n",
    "- 0374 FeSb2 with 0.050 mm Ni and 0.050 mm W\n",
    "-- slicing: -2 360 3620 0.5 0\n",
    "- 0375 FeSb2 with 0.075 mm Ni and 0.050 mm W\n",
    "-- slicing: -2 360 3620 0.1 0\n",
    "- 0376 FeSb2 with 0.075 mm Ni and 0.025 mm W\n",
    "-- slicing: -2 360 3620 0.1 0\n",
    "\n",
    "### further datasets\n",
    "We also collected data on Rubrene with the Eiger2 "
   ]
  },
  {
   "cell_type": "code",
   "execution_count": 4,
   "id": "24f416ee-0427-4930-a6cf-c9d136043a60",
   "metadata": {},
   "outputs": [],
   "source": [
    "# import package to open hkl datasets\n",
    "from dataset import dataset\n",
    "import matplotlib.pyplot as plt\n",
    "import numpy as np"
   ]
  },
  {
   "cell_type": "code",
   "execution_count": 5,
   "id": "eebdd905-b18f-49ad-bce6-e1946b88c278",
   "metadata": {},
   "outputs": [
    {
     "name": "stdout",
     "output_type": "stream",
     "text": [
      "New dataset: 0347.hkl\n",
      "Setting symmetry to mmm for 0347.hkl\n",
      "No. of symops: 8\n",
      "Length of data loaded: 831\n",
      "Length of reduced data: 229\n",
      "New dataset: 0349.hkl\n",
      "Setting symmetry to mmm for 0349.hkl\n",
      "No. of symops: 8\n",
      "Length of data loaded: 870\n",
      "Length of reduced data: 231\n",
      "New dataset: 0350.hkl\n",
      "Setting symmetry to mmm for 0350.hkl\n",
      "No. of symops: 8\n",
      "Length of data loaded: 916\n",
      "Length of reduced data: 230\n",
      "New dataset: 0373.hkl\n",
      "Setting symmetry to mmm for 0373.hkl\n",
      "No. of symops: 8\n",
      "Length of data loaded: 715\n",
      "Length of reduced data: 193\n",
      "New dataset: 0376.hkl\n",
      "Setting symmetry to mmm for 0376.hkl\n",
      "No. of symops: 8\n",
      "Length of data loaded: 664\n",
      "Length of reduced data: 189\n"
     ]
    }
   ],
   "source": [
    "fesb_symm = 'mmm'\n",
    "eiger_ni25 = dataset('0347.hkl', symmetry=fesb_symm)\n",
    "eiger_w25 = dataset('0349.hkl', symmetry=fesb_symm)\n",
    "eiger_w50 = dataset('0350.hkl', symmetry=fesb_symm)\n",
    "\n",
    "# not yet integrated\n",
    "#\n",
    "\n",
    "pilatus_w50 = dataset('0373.hkl', symmetry=fesb_symm)\n",
    "pilatus_ni75_w25 = dataset('0376.hkl', symmetry=fesb_symm)\n",
    "\n",
    "# not yet integrated\n",
    "# pilatus_ni75_w50 = dataset('0375.hkl', symmetry=fesb_symm)\n",
    "# pilatus_ni50_w50 = dataset('0374.hkl', symmetry=fesb_symm)"
   ]
  },
  {
   "cell_type": "code",
   "execution_count": 18,
   "id": "5bdd9177-f317-4f9c-9b46-8fd5ce4733a2",
   "metadata": {},
   "outputs": [],
   "source": [
    "def compare_datasets(df1, df2, suffix=('_I1', '_I2'), lower_cut=10, upper_cut=2000):\n",
    "    \"\"\"\n",
    "     merges two datasets and scales them to one another for comparisson\n",
    "     \n",
    "     returns as pd.dataframe\n",
    "    \"\"\"\n",
    "\n",
    "    # set of reflections within the intensity cutouts\n",
    "    scale1 = df1['intensity'][(df1['intensity'] > lower_cut) & (df1['intensity'] < upper_cut)]\n",
    "    scale2 = df2['intensity'][(df2['intensity'] > lower_cut) & (df2['intensity'] < upper_cut)]\n",
    "    \n",
    "    # calculate a scaling factor between them\n",
    "    # scale2/scale2 (=1) to make sure NaN between 1 and 2 does not count\n",
    "    scale = np.nansum(scale1*scale2)/np.nansum(np.square(scale1*scale2/scale2))\n",
    "    \n",
    "\n",
    "    # find a common scale\n",
    "    #scale = np.nansum(scale1[f'intensity{suffix[0]}']*scale2[f'intensity{suffix[1]}'])/np.nansum(np.square(scale1[f'intensity{suffix[0]}'])) \n",
    "    \n",
    "    data = df1.merge(df2, how='inner', on=['hkl'], suffixes=suffix, indicator=True)\n",
    "    \n",
    "    # scale the datasets to eachother\n",
    "    data[f'intensity{suffix[0]}'] *= scale\n",
    "    \n",
    "    return data"
   ]
  },
  {
   "cell_type": "code",
   "execution_count": 20,
   "id": "9c240478-b012-48ec-99a3-1b50992eb1db",
   "metadata": {},
   "outputs": [
    {
     "name": "stdout",
     "output_type": "stream",
     "text": [
      "           intensity_eig  sigma_eig  intensity_pil  sigma_pil _merge\n",
      "hkl                                                                 \n",
      "(0, 0, 1)       0.103505   0.022628       0.216240   0.090110   both\n",
      "(0, 0, 2)    4566.824858   1.606515    9688.660000  14.283475   both\n",
      "(0, 1, 0)       4.518968   0.016160       1.968100   0.078520   both\n",
      "(0, 1, 1)    1066.921532   0.546288    1770.553333   4.435857   both\n",
      "(0, 1, 2)       0.937886   0.029650       3.625120   0.302270   both\n",
      "...                  ...        ...            ...        ...    ...\n",
      "(7, 4, 1)     582.505503   0.901883     575.405000   3.561945   both\n",
      "(7, 4, 2)     223.727935   0.511590     233.811500   2.482205   both\n",
      "(7, 5, 0)      71.376435   0.191215      65.050900   1.273370   both\n",
      "(7, 5, 1)    1562.940672   2.355515    1749.780000   5.990095   both\n",
      "(7, 6, 0)    1350.619682   1.987045    1385.275000   4.762015   both\n",
      "\n",
      "[178 rows x 5 columns]\n"
     ]
    }
   ],
   "source": [
    "sfx = ('_eig', '_pil')\n",
    "data = compare_datasets(eiger_ni25.data, pilatus_w50.data, suffix=sfx)\n",
    "print(data)"
   ]
  },
  {
   "cell_type": "code",
   "execution_count": 22,
   "id": "11f3c0d9-e7f5-4cf8-81f2-ab320e098f31",
   "metadata": {},
   "outputs": [
    {
     "data": {
      "text/plain": [
       "[Text(0.5, 0, '$I_1$'), Text(0, 0.5, '$I_2$')]"
      ]
     },
     "execution_count": 22,
     "metadata": {},
     "output_type": "execute_result"
    },
    {
     "data": {
      "image/png": "[encoded data removed]",
      "text/plain": [
       "<Figure size 432x288 with 1 Axes>"
      ]
     },
     "metadata": {
      "needs_background": "light"
     },
     "output_type": "display_data"
    }
   ],
   "source": [
    "fig, ax = plt.subplots()\n",
    "\n",
    "# straight line y = x up to the max val\n",
    "maxval = data[f'intensity{sfx[0]}'].max()\n",
    "ax.plot([0, maxval], [0, maxval])\n",
    "\n",
    "# scatter I1 vs I2\n",
    "ax.scatter(data['intensity_eig'], data['intensity_pil'])\n",
    "ax.tick_params(direction='in')\n",
    "\n",
    "ax.set(xlabel='$I_1$',\n",
    "       ylabel='$I_2$',\n",
    "      )"
   ]
  },
  {
   "cell_type": "markdown",
   "id": "5e530259-180f-4dfb-9fe3-14f468ac2bfd",
   "metadata": {},
   "source": [
    "Plotting the Intensity of one vs. the other is not saying much."
   ]
  },
  {
   "cell_type": "code",
   "execution_count": 25,
   "id": "5036380b-d3e0-4c0a-9283-d973de62a4d2",
   "metadata": {},
   "outputs": [
    {
     "data": {
      "image/png": "[encoded data removed]",
      "text/plain": [
       "<Figure size 864x432 with 1 Axes>"
      ]
     },
     "metadata": {
      "needs_background": "light"
     },
     "output_type": "display_data"
    }
   ],
   "source": [
    "fig, ax1= plt.subplots(1,1,figsize=(12,6))\n",
    "\n",
    "data_mean = (data[f'intensity{sfx[0]}'] + data[f'intensity{sfx[1]}'])/2\n",
    "x = np.log10(data_mean)\n",
    "y = (data[f'intensity{sfx[0]}']-data[f'intensity{sfx[1]}'])/data_mean\n",
    "\n",
    "ax1.axhline(y=0, c='k')\n",
    "ax1.scatter(x, y)\n",
    "\n",
    "ax1.tick_params(direction='in')\n",
    "\n",
    "ax1.set(xlabel=r'log$_{10}$ $<I_{1,2}>$',\n",
    "        ylabel='($I_1 - I_2$)/$<I_{1,2}>$',\n",
    "        title='ax1'\n",
    "       \n",
    "      )\n",
    "\n",
    "\n",
    "\n",
    "fig.suptitle('Eiger vs. Pilatus intensities\\n25 µm Ni foil')\n",
    "fig.tight_layout()"
   ]
  },
  {
   "cell_type": "markdown",
   "id": "6b3c4a19-30cf-443f-bba4-0f039eedb2b7",
   "metadata": {},
   "source": [
    "A perfect dataset should show no difference between $I_2$-$I_1$ i.e. on the baseline y=0. Differences are thus deviations in the observations, divided by the mean intensity. $I_2 < I_1$ thus gives negative values.\n",
    "\n",
    "The difference over the mean plotted against the log(intensity)-axis shows noisy data at lower intensities, but also a systematic deviation towards the negative end i.e. $I_{PIL}$ < $I_{EIG}$ systematically."
   ]
  },
  {
   "cell_type": "code",
   "execution_count": 17,
   "id": "ff3b4f76-579d-4db0-bfa3-6bcfd3d96214",
   "metadata": {},
   "outputs": [
    {
     "data": {
      "text/plain": [
       "1"
      ]
     },
     "execution_count": 17,
     "metadata": {},
     "output_type": "execute_result"
    }
   ],
   "source": [
    "1"
   ]
  },
  {
   "cell_type": "code",
   "execution_count": null,
   "id": "3859f31d-18c6-414e-a569-1cc5191fa07f",
   "metadata": {},
   "outputs": [],
   "source": [
    "fig, ax1= plt.subplots(1,1,figsize=(12,6))\n",
    "\n",
    "data_mean = (data_1 + data_2)/2\n",
    "x = np.log10(data_mean)\n",
    "\n",
    "y = (data_1-data_2)/data_mean\n",
    "ax1.axhline(y=0, c='k')\n",
    "ax1.scatter(x, y)\n",
    "\n",
    "ax1.tick_params(direction='in')\n",
    "\n",
    "ax1.set(xlabel=r'log$_{10}$ $<I_{1,2}>$',\n",
    "        ylabel='($I_1 - I_2$)/$<I_{1,2}>$',\n",
    "        title='ax1'\n",
    "       \n",
    "      )\n",
    "\n",
    "\n",
    "\n",
    "fig.suptitle('Eiger vs. Pilatus intensities\\n25 µm Ni foil')\n",
    "fig.tight_layout()"
   ]
  },
  {
   "cell_type": "code",
   "execution_count": null,
   "id": "6eb2f163-5806-4ca4-b238-3587a01aa6f8",
   "metadata": {},
   "outputs": [],
   "source": []
  }
 ],
 "metadata": {
  "kernelspec": {
   "display_name": "HDF5 Environment",
   "language": "python",
   "name": "hdf-kernel"
  },
  "language_info": {
   "codemirror_mode": {
    "name": "ipython",
    "version": 3
   },
   "file_extension": ".py",
   "mimetype": "text/x-python",
   "name": "python",
   "nbconvert_exporter": "python",
   "pygments_lexer": "ipython3",
   "version": "3.9.12"
  }
 },
 "nbformat": 4,
 "nbformat_minor": 5
}
